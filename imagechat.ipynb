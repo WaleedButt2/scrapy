{
 "cells": [
  {
   "cell_type": "code",
   "execution_count": 4,
   "metadata": {},
   "outputs": [
    {
     "name": "stdout",
     "output_type": "stream",
     "text": [
      "File downloaded and saved to ./temp.jpg\n",
      "{'model_title': 'Chooch-ImageChat-3', 'model_id': 'Chooch-ImageChat-3', 'prediction': \"The image depicts a close-up of a man's face wearing a tie and a suit. He is looking directly at the camera and his eyes are focused on something in the distance. The background of the image features a Christmas tree with ornaments hanging on it.\", 'prediction_type': 'Chooch-ImageChat-3-Image', 'prompt': 'Describe this image in detail', 'source_id': 'bf199773-833c-41b9-90f1-b0337d51e901.jpg', 'source_type': 'image', 'source_name': 'bf199773-833c-41b9-90f1-b0337d51e901.jpg', 'source_name_org': 'temp.jpg', 'status': 'Successful Prediction', 'source_path': 'http://chat-api.chooch.ai/source/?source_name=bf199773-833c-41b9-90f1-b0337d51e901.jpg&source_name_org=temp.jpg'}\n"
     ]
    }
   ],
   "source": [
    "import requests\n",
    "import json\n",
    "\n",
    "# change host name as needed\n",
    "host_name = \"https://chat-api.chooch.ai\"\n",
    "import os\n",
    "def image_chat_predict(model_id, parameters, file_path = \"\", api_key = None):\n",
    " \n",
    "    payload = {\n",
    "      \"parameters\": parameters\n",
    "    }\n",
    "    \n",
    "    parameters = {\"parameters\": parameters, \"model_id\": model_id}\n",
    "    parameters_json =  json.dumps(parameters) \n",
    "    \n",
    "    payload = {'data': parameters_json }\n",
    "\n",
    "    url = \"{}/predict?api_key={}\".format(host_name, api_key)\n",
    "    #-- url = \"{}/predict_image_chat?api_key={}\".format(host_name, api_key)\n",
    "    if file_path == \"\":\n",
    "         # normal post\n",
    "         response = requests.post(url, data=payload)   \n",
    "    else:\n",
    "        # load file and post \n",
    "        file = {'file': open(file_path, 'rb')}\n",
    "        response = requests.post(url, data=payload, files=file) \n",
    "        \n",
    "    json_data = json.loads(response.content)\n",
    "      \n",
    "    return json_data \n",
    "\n",
    "\n",
    "# set parameters\n",
    "parameters = {}\n",
    "\n",
    "# Set prompt, pass prompt empty on first upload\n",
    "prompt = \"Describe this image in detail\"\n",
    "parameters[\"prompt\"] = prompt\n",
    "\n",
    "\n",
    "# optional lang \n",
    "# parameters[\"lang\"] = \"es\"\n",
    "# please see bottom of documentation for available languages\n",
    "\n",
    "# optional maximum new tokens setting\n",
    "#-- parameters[\"max_new_tokens\"] = 512\n",
    "\n",
    "\n",
    "\n",
    "# replace with your own Chooch api key. Get our Api Key by siging up to Chooch Vision Studio https://app.chooch.ai/\n",
    "api_key = os.environ['Cooch_Api'] \n",
    "\n",
    "\n",
    "file_url = \"https://ichef.bbci.co.uk/news/976/cpsprodpb/BA79/production/_132073774_gettyimages-1832494574.jpg\"\n",
    "file_path = \"./temp.jpg\"\n",
    "response = requests.get(file_url)\n",
    "response.raise_for_status()  # Ensure the download was successful\n",
    "\n",
    "# Save the file\n",
    "with open(file_path, 'wb') as file:\n",
    "    file.write(response.content)\n",
    "\n",
    "print(f\"File downloaded and saved to {file_path}\")\n",
    "\n",
    "# set model_id\n",
    "model_id = \"chooch-image-chat-3\"\n",
    "\n",
    "return_val = image_chat_predict(model_id, parameters, file_path = file_path, api_key = api_key)\n",
    "\n",
    "os.remove(file_path)\n",
    "return_val['prediction']"
   ]
  },
  {
   "cell_type": "code",
   "execution_count": 6,
   "metadata": {},
   "outputs": [
    {
     "data": {
      "text/plain": [
       "\"The image depicts a close-up of a man's face wearing a tie and a suit. He is looking directly at the camera and his eyes are focused on something in the distance. The background of the image features a Christmas tree with ornaments hanging on it.\""
      ]
     },
     "execution_count": 6,
     "metadata": {},
     "output_type": "execute_result"
    }
   ],
   "source": []
  },
  {
   "cell_type": "code",
   "execution_count": null,
   "metadata": {},
   "outputs": [],
   "source": []
  }
 ],
 "metadata": {
  "kernelspec": {
   "display_name": "Python 3",
   "language": "python",
   "name": "python3"
  },
  "language_info": {
   "codemirror_mode": {
    "name": "ipython",
    "version": 3
   },
   "file_extension": ".py",
   "mimetype": "text/x-python",
   "name": "python",
   "nbconvert_exporter": "python",
   "pygments_lexer": "ipython3",
   "version": "3.10.12"
  }
 },
 "nbformat": 4,
 "nbformat_minor": 2
}
