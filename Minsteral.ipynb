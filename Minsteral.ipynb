{
 "cells": [
  {
   "cell_type": "code",
   "execution_count": 4,
   "metadata": {},
   "outputs": [],
   "source": [
    "import os\n",
    "from dotenv import load_dotenv\n",
    "from mistralai.client import MistralClient\n",
    "from mistralai.models.chat_completion import ChatMessage\n",
    "load_dotenv()\n",
    "api_key = os.environ[\"MISTRAL_API_KEY\"]\n",
    "model = \"mistral-tiny\"\n",
    "\n",
    "client = MistralClient(api_key=api_key)\n",
    "\n",
    "ass=\"\"\"Fresh off the embarrassment of the en masse yeeting of schools from their much ballyhooed law school rankings — and delaying the most recent version of the rankings twice as a result — U.S. News and World Report has decided to try their hand at law firm rankings. Today they announced the 2024 U.S. News Best Companies to Work For: Law Firms list. And it’s quite the read!  U.S. News Managing Editor of Money Susannah Snider’s statement on the ratings gives a sense of what U.S. News is trying to capture with the ranking (besides relevance now that the law school ranking is on the decline). “Professionals evaluating law firms where they can build their careers typically prioritize various needs such as pay, work-life balance and professional development,” said Snider. “To reflect that style of decision-making, the U.S. News Best Companies to Work For: Law Firms takes a modified approach to Maslow’s Hierarchy of Needs to inform an ‘Employee’s Hierarchy of Needs.’ Among other factors, we look at law firms that contribute to a positive work environment and day-to-day employee experience, and offer opportunities for upward mobility.”  But for those actually *in* the industry, I’m not sure how useful the U.S. News numbers really are.  Sponsored 3 Ways AI Can Help Draft Legal Documents Faster Finish polished legal docs in Word with Lexis® Create. The AI-powered add-on leverages authoritative LexisNexis® content to help legal professionals intelligently draft and populate verifiable…  There’s not a cumulative ranking in the U.S. News “ranking.” Paradoxical, I know! But they do provide a scorecard for each firm, which lets you know how they stack up in each of six categories: Quality of pay and benefits; Work/life balance and flexibility; Job and company stability; Physical and psychological comfort; Belongingness and esteem; Career opportunities and professional development.  Before we delve too far into this, a word to the wise: take these numbers with a grain of salt. The methodology is inherently subjective — how exactly are you supposed to measure psychological comfort at a job? Or esteem? Plus it includes people sounding off on forums like Glassdoor and LinkedIn, and there’s an inherent selection bias for those opt-in platforms — just because an associate doesn’t have time to complain on Glassdoor doesn’t mean all is well at a firm. But beyond that, some of these numbers are… a bit of a head scratcher.  Listen, I’ve been covering this industry for a lot of years, and some of these scores just don’t pass the smell test. For example: Milbank — the firm which has consistently raised the bar on compensation — gets a 3!! on salary? WTF? Kirkland — known for its cutthroat culture — gets a 5 for belongingness? Ummmmm, okay? Goodwin, the posterchild for recent layoffs, gets a 5 on stability?? (Maybe the disappearing Fishbowl posts about Goodwin are at work here.) But Baker McKenzie gets a 1 on stability? Why? Make it make sense.  Of course, there is a bunch that does makes sense in the rankings, like Biglaw’s consistently poor work/life balance rating.  In any event, it’s still fun to gawk at the numbers. Here’s how the Am Law top 10 (ranked by gross revenue) get rated.  Other notable top firms:  You can play around with the full list here.\"\"\"\n",
    "messages = [\n",
    "    ChatMessage(role=\"user\", content=\"You will be given news from a page.It will also include (probbaly) non news data and html. Find the news portion and make a 70-80 word summary.\\n News:\"+ass)\n",
    "]\n",
    "prompt=\"\"\"You will be given news from a page.It will also include (probbaly) non news data and html. Find the news portion and make a 70-80 word summary.\\n News:\"\"\"\n",
    "# No streaming\n"
   ]
  },
  {
   "cell_type": "code",
   "execution_count": 10,
   "metadata": {},
   "outputs": [
    {
     "data": {
      "text/plain": [
       "'U.S. News and World Report has introduced its 2024 \"Best Companies to Work For: Law Firms\" ranking, marking a new venture after facing criticism regarding its law school rankings. The ranking assesses firms based on six categories: pay and benefits, work-life balance, stability, comfort, belongingness, and career opportunities. Managing Editor Susannah Snider emphasizes the importance of addressing employees\\' needs beyond just relevance. However, industry experts suggest taking the rankings with a grain of salt due to the subjective methodology and potential biases. Notable firms in the Am Law top 10 and other firms can be explored in detail on U.S. News\\' website.'"
      ]
     },
     "execution_count": 10,
     "metadata": {},
     "output_type": "execute_result"
    }
   ],
   "source": []
  },
  {
   "cell_type": "code",
   "execution_count": null,
   "metadata": {},
   "outputs": [],
   "source": []
  }
 ],
 "metadata": {
  "kernelspec": {
   "display_name": "Python 3",
   "language": "python",
   "name": "python3"
  },
  "language_info": {
   "codemirror_mode": {
    "name": "ipython",
    "version": 3
   },
   "file_extension": ".py",
   "mimetype": "text/x-python",
   "name": "python",
   "nbconvert_exporter": "python",
   "pygments_lexer": "ipython3",
   "version": "3.10.12"
  }
 },
 "nbformat": 4,
 "nbformat_minor": 2
}
